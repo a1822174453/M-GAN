{
 "cells": [
  {
   "cell_type": "code",
   "execution_count": 82,
   "metadata": {},
   "outputs": [
    {
     "data": {
      "text/plain": [
       "[(1, 1.0), (2, 0.0)]"
      ]
     },
     "execution_count": 82,
     "metadata": {},
     "output_type": "execute_result"
    }
   ],
   "source": [
    "import nltk\n",
    "from gensim import corpora, models, similarities\n",
    "import pandas as pd\n",
    "def semblance(q_data, query, K):\n",
    "    dictionary = corpora.Dictionary(q_data)  # 是文档集的表现形式。corpora就是一个二维矩阵\n",
    "    doc_vectors = [dictionary.doc2bow(text) for text in q_data]  # 建立语料库\n",
    "    doc_text_vec = dictionary.doc2bow(query)\n",
    "    tfidf = models.TfidfModel(doc_vectors)\n",
    "    index = similarities.SparseMatrixSimilarity(\n",
    "        tfidf[doc_vectors], num_features=len(dictionary.keys()))  # 文本相似度计算\n",
    "    sim = index[tfidf[doc_text_vec]]\n",
    "    sim_sorted = sorted(enumerate(sim, 1), key=lambda x: x[1], reverse=True)\n",
    "\n",
    "    return sim_sorted[:K]\n",
    "\n",
    "\n",
    "q_data=[['德国总理舒尔茨：我们已决定，我们要使大麻合法化，它将被实施。'],\n",
    "        ['瑞典媒体追问首相是否同土耳其谈判许诺包括引渡土耳其持不同政见者的加入北约的条件。但瑞典首相拒绝否认。']]\n",
    "\n",
    "a=semblance(q_data,['德国总理舒尔茨：我们已决定，我们要使大麻合法化，它将被实施。'],2)\n",
    "a"
   ]
  },
  {
   "cell_type": "code",
   "execution_count": null,
   "metadata": {},
   "outputs": [],
   "source": [
    "a_set = pd.read_csv(\"../qa_set_u0.csv\")\n",
    "print(a_set.shape)#打印行数\n",
    "df=a_set.drop_duplicates(subset=['q_id','a_id'])#两列去重\n",
    "df_delete=df.drop(['Unnamed: 0','q_time','a_time','score'],axis=1)\n",
    "df_delete.insert(loc=7, column='flag', value=\"1\")  # 在最后一列后，插入值全为3的c列\n",
    "df_delete.to_csv('step.csv',index=False)\n",
    "\n"
   ]
  },
  {
   "cell_type": "code",
   "execution_count": null,
   "metadata": {},
   "outputs": [],
   "source": [
    "df_postive = pd.read_csv(\"./step.csv\")\n",
    "from tqdm import tqdm"
   ]
  },
  {
   "cell_type": "code",
   "execution_count": null,
   "metadata": {},
   "outputs": [],
   "source": [
    "#df_postive\n",
    "#type(df.iloc[0]['r'])\n",
    "#df.iloc[0]['r']\n",
    "#df_postive=df_postive.copy()\n",
    "from tqdm import tqdm\n",
    "for index,text in tqdm(df_postive.iterrows()):\n",
    "    #print(type(text)) #pandas.core.series.Series\n",
    "    if df_postive.iloc[index]['r']=='[0.0, 1.0, 0.0, 0.0]':\n",
    "        # 修改 （index, flag） 位置的原值1修改为0\n",
    "        df_postive.update(pd.Series([\"0\"], index=[index], name='flag'))\n",
    "df_postive.to_csv('postive.csv',index=False)"
   ]
  },
  {
   "cell_type": "code",
   "execution_count": null,
   "metadata": {},
   "outputs": [],
   "source": [
    "df_postive = pd.read_csv(\"./postive.csv\")\n",
    "df_postive"
   ]
  },
  {
   "cell_type": "code",
   "execution_count": null,
   "metadata": {},
   "outputs": [],
   "source": [
    "q_id_list=df_postive['q_id'].values.tolist()\n",
    "q_text_list=df_postive['q_text'].values.tolist()"
   ]
  },
  {
   "cell_type": "markdown",
   "metadata": {},
   "source": [
    "### 生产一个字典{\"q_text\",\"q_id\"}"
   ]
  },
  {
   "cell_type": "code",
   "execution_count": null,
   "metadata": {},
   "outputs": [],
   "source": [
    "dict={}\n",
    "for i in range(0,len(q_id_list)):\n",
    "    dict.update({q_text_list[i]:q_id_list[i]})    "
   ]
  },
  {
   "cell_type": "markdown",
   "metadata": {},
   "source": [
    "### 获取所有语料"
   ]
  },
  {
   "cell_type": "code",
   "execution_count": 103,
   "metadata": {},
   "outputs": [],
   "source": [
    "all_list=[]\n",
    "for i in q_text_list:\n",
    "    temp_list=[i]\n",
    "    all_list.append(temp_list)"
   ]
  },
  {
   "cell_type": "code",
   "execution_count": 122,
   "metadata": {},
   "outputs": [],
   "source": [
    "dictionary = corpora.Dictionary(all_list)\n",
    "doc_vectors = [dictionary.doc2bow(text) for text in q_data]  # 建立语料库\n",
    "def semblance(query, K):\n",
    "    doc_text_vec = dictionary.doc2bow(query)\n",
    "    tfidf = models.TfidfModel(doc_vectors)\n",
    "    index = similarities.SparseMatrixSimilarity(\n",
    "        tfidf[doc_vectors], num_features=len(dictionary.keys()))  # 文本相似度计算\n",
    "    sim = index[tfidf[doc_text_vec]]\n",
    "    sim_sorted = sorted(enumerate(sim, 1), key=lambda x: x[1], reverse=True)\n",
    "\n",
    "    return sim_sorted[:K]"
   ]
  },
  {
   "cell_type": "code",
   "execution_count": 105,
   "metadata": {},
   "outputs": [],
   "source": [
    "#k=semblance(all_list,['how to treat all integer literals in expressions as doubles?i just noticed that my expressions such as double x = 60/21 returns'],10)"
   ]
  },
  {
   "cell_type": "code",
   "execution_count": 1,
   "metadata": {},
   "outputs": [
    {
     "ename": "NameError",
     "evalue": "name 'tqdm' is not defined",
     "output_type": "error",
     "traceback": [
      "\u001b[1;31m---------------------------------------------------------------------------\u001b[0m",
      "\u001b[1;31mNameError\u001b[0m                                 Traceback (most recent call last)",
      "\u001b[1;32md:\\Code\\pythonProject\\notebook\\step.ipynb Cell 13'\u001b[0m in \u001b[0;36m<cell line: 1>\u001b[1;34m()\u001b[0m\n\u001b[1;32m----> <a href='vscode-notebook-cell:/d%3A/Code/pythonProject/notebook/step.ipynb#ch0000012?line=0'>1</a>\u001b[0m \u001b[39mfor\u001b[39;00m i \u001b[39min\u001b[39;00m tqdm(all_list):\n\u001b[0;32m      <a href='vscode-notebook-cell:/d%3A/Code/pythonProject/notebook/step.ipynb#ch0000012?line=1'>2</a>\u001b[0m     temp\u001b[39m=\u001b[39msemblance(i,\u001b[39m10\u001b[39m)\n",
      "\u001b[1;31mNameError\u001b[0m: name 'tqdm' is not defined"
     ]
    }
   ],
   "source": [
    "for i in tqdm(all_list):\n",
    "    temp=semblance(i,10)"
   ]
  },
  {
   "cell_type": "code",
   "execution_count": 86,
   "metadata": {},
   "outputs": [
    {
     "data": {
      "text/plain": [
       "[(1, 0.0),\n",
       " (2, 0.0),\n",
       " (3, 0.0),\n",
       " (4, 0.0),\n",
       " (5, 0.0),\n",
       " (6, 0.0),\n",
       " (7, 0.0),\n",
       " (8, 0.0),\n",
       " (9, 0.0),\n",
       " (10, 0.0)]"
      ]
     },
     "execution_count": 86,
     "metadata": {},
     "output_type": "execute_result"
    }
   ],
   "source": [
    "x=semblance1(dictionary,doc_vectors,['storing large jsons on blob field on a oracle databaseas the title says, i need to store some big json files on a '], 10)\n",
    "x"
   ]
  }
 ],
 "metadata": {
  "kernelspec": {
   "display_name": "Python 3.8.10 64-bit",
   "language": "python",
   "name": "python3"
  },
  "language_info": {
   "codemirror_mode": {
    "name": "ipython",
    "version": 3
   },
   "file_extension": ".py",
   "mimetype": "text/x-python",
   "name": "python",
   "nbconvert_exporter": "python",
   "pygments_lexer": "ipython3",
   "version": "3.8.10"
  },
  "orig_nbformat": 4,
  "vscode": {
   "interpreter": {
    "hash": "916dbcbb3f70747c44a77c7bcd40155683ae19c65e1c03b4aa3499c5328201f1"
   }
  }
 },
 "nbformat": 4,
 "nbformat_minor": 2
}
